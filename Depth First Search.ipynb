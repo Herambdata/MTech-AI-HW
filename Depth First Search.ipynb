{
 "cells": [
  {
   "cell_type": "code",
   "execution_count": 4,
   "metadata": {},
   "outputs": [
    {
     "name": "stdout",
     "output_type": "stream",
     "text": [
      "{0: [1, 2], 1: [2], 2: [0, 3], 3: [3], 4: [5, 2], 5: [1]}\n",
      "0  ->  1 -> 2\n",
      "1  ->  2\n",
      "2  ->  0 -> 3\n",
      "3  ->  3\n",
      "4  ->  5 -> 2\n",
      "5  ->  1\n",
      "DFS:\n",
      "0 1 2 3 4 5 "
     ]
    }
   ],
   "source": [
    "class Graph():\n",
    "    def __init__(self):\n",
    "        self.vertex = {}\n",
    "\n",
    "    # for printing the Graph vertexes\n",
    "    def printGraph(self):\n",
    "        print(self.vertex)\n",
    "        for i in self.vertex.keys():\n",
    "            print(i,' -> ', ' -> '.join([str(j) for j in self.vertex[i]]))\n",
    "\n",
    "    # for adding the edge beween two vertexes\n",
    "    def addEdge(self, fromVertex, toVertex):\n",
    "        # check if vertex is already present,\n",
    "        if fromVertex in self.vertex.keys():\n",
    "            self.vertex[fromVertex].append(toVertex)\n",
    "        else:\n",
    "            # else make a new vertex\n",
    "            self.vertex[fromVertex] = [toVertex]\n",
    "\n",
    "    def DFS(self):\n",
    "        # visited array for storing already visited nodes\n",
    "        visited = [False] * len(self.vertex)\n",
    "\n",
    "        # call the recursive helper function\n",
    "        for i in range(len(self.vertex)):\n",
    "            if visited[i] == False:\n",
    "                self.DFSRec(i, visited)\n",
    "\n",
    "    def DFSRec(self, startVertex, visited):\n",
    "        # mark start vertex as visited\n",
    "        visited[startVertex] = True\n",
    "\n",
    "        print(startVertex, end = ' ')\n",
    "\n",
    "        # Recur for all the vertexes that are adjacent to this node\n",
    "        for i in self.vertex.keys():\n",
    "            if visited[i] == False:\n",
    "                self.DFSRec(i, visited)\n",
    "\n",
    "if __name__ == '__main__':\n",
    "    g = Graph()\n",
    "    g.addEdge(0, 1)\n",
    "    g.addEdge(0, 2)\n",
    "    g.addEdge(1, 2)\n",
    "    g.addEdge(2, 0)\n",
    "    g.addEdge(2, 3)\n",
    "    g.addEdge(3, 3)\n",
    "    g.addEdge(4, 5)\n",
    "    g.addEdge(4, 2)\n",
    "    g.addEdge(5, 1)\n",
    "\n",
    "    g.printGraph()\n",
    "    print('DFS:')\n",
    "    g.DFS()"
   ]
  },
  {
   "cell_type": "code",
   "execution_count": null,
   "metadata": {},
   "outputs": [],
   "source": []
  }
 ],
 "metadata": {
  "kernelspec": {
   "display_name": "Python 3.8.2 64-bit",
   "language": "python",
   "name": "python38264bit2fa636e438634573a999bbece796eff6"
  },
  "language_info": {
   "codemirror_mode": {
    "name": "ipython",
    "version": 3
   },
   "file_extension": ".py",
   "mimetype": "text/x-python",
   "name": "python",
   "nbconvert_exporter": "python",
   "pygments_lexer": "ipython3",
   "version": "3.8.3"
  }
 },
 "nbformat": 4,
 "nbformat_minor": 4
}
